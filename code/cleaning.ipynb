{
 "cells": [
  {
   "cell_type": "code",
   "execution_count": 18,
   "id": "7966d16d",
   "metadata": {},
   "outputs": [
    {
     "name": "stdout",
     "output_type": "stream",
     "text": [
      "C:\\Users\\Pedro\\Research\\Options\\market_data\\Opciones\n",
      "2025-05-05\n"
     ]
    }
   ],
   "source": [
    "import pandas as pd\n",
    "import os\n",
    "import re\n",
    "import numpy as np\n",
    "import sys \n",
    "import config_options as cfg\n",
    "chosen_day = cfg.chosen_day\n",
    "print(cfg.carpeta_md_opciones)\n",
    "print(chosen_day)"
   ]
  },
  {
   "cell_type": "code",
   "execution_count": 17,
   "id": "d2ceaf35",
   "metadata": {},
   "outputs": [
    {
     "ename": "FileNotFoundError",
     "evalue": "[WinError 3] El sistema no puede encontrar la ruta especificada: 'C:\\\\Users\\\\Pedro\\\\Research\\\\Options\\\\market_data\\\\Opciones'",
     "output_type": "error",
     "traceback": [
      "\u001b[1;31m---------------------------------------------------------------------------\u001b[0m",
      "\u001b[1;31mFileNotFoundError\u001b[0m                         Traceback (most recent call last)",
      "Cell \u001b[1;32mIn[17], line 10\u001b[0m\n\u001b[0;32m      7\u001b[0m         \u001b[38;5;28mprint\u001b[39m(\u001b[38;5;124mf\u001b[39m\u001b[38;5;124m\"\u001b[39m\u001b[38;5;124mDia \u001b[39m\u001b[38;5;132;01m{\u001b[39;00mchosen_day\u001b[38;5;132;01m}\u001b[39;00m\u001b[38;5;124m no encontrado en \u001b[39m\u001b[38;5;132;01m{\u001b[39;00mcarpeta\u001b[38;5;132;01m}\u001b[39;00m\u001b[38;5;124m. Revisa en la carpeta\u001b[39m\u001b[38;5;124m\"\u001b[39m)\n\u001b[0;32m      8\u001b[0m         \u001b[38;5;28;01mreturn\u001b[39;00m \u001b[38;5;28;01mNone\u001b[39;00m\n\u001b[1;32m---> 10\u001b[0m data_base \u001b[38;5;241m=\u001b[39m cargar_csv(cfg\u001b[38;5;241m.\u001b[39mcarpeta_md_opciones, chosen_day)\n",
      "Cell \u001b[1;32mIn[17], line 2\u001b[0m, in \u001b[0;36mcargar_csv\u001b[1;34m(carpeta, chosen_day)\u001b[0m\n\u001b[0;32m      1\u001b[0m \u001b[38;5;28;01mdef\u001b[39;00m \u001b[38;5;21mcargar_csv\u001b[39m(carpeta, chosen_day):\n\u001b[1;32m----> 2\u001b[0m     files \u001b[38;5;241m=\u001b[39m [f \u001b[38;5;28;01mfor\u001b[39;00m f \u001b[38;5;129;01min\u001b[39;00m os\u001b[38;5;241m.\u001b[39mlistdir(carpeta) \u001b[38;5;28;01mif\u001b[39;00m chosen_day \u001b[38;5;129;01min\u001b[39;00m f \u001b[38;5;129;01mand\u001b[39;00m f\u001b[38;5;241m.\u001b[39mendswith(\u001b[38;5;124m\"\u001b[39m\u001b[38;5;124m.csv\u001b[39m\u001b[38;5;124m\"\u001b[39m)]\n\u001b[0;32m      3\u001b[0m     \u001b[38;5;28;01mif\u001b[39;00m files:\n\u001b[0;32m      4\u001b[0m         full_path \u001b[38;5;241m=\u001b[39m os\u001b[38;5;241m.\u001b[39mpath\u001b[38;5;241m.\u001b[39mjoin(carpeta, files[\u001b[38;5;241m0\u001b[39m])\n",
      "\u001b[1;31mFileNotFoundError\u001b[0m: [WinError 3] El sistema no puede encontrar la ruta especificada: 'C:\\\\Users\\\\Pedro\\\\Research\\\\Options\\\\market_data\\\\Opciones'"
     ]
    }
   ],
   "source": [
    "def cargar_csv(carpeta, chosen_day):\n",
    "    files = [f for f in os.listdir(carpeta) if chosen_day in f and f.endswith(\".csv\")]\n",
    "    if files:\n",
    "        full_path = os.path.join(carpeta, files[0])\n",
    "        return pd.read_csv(full_path)\n",
    "    else:\n",
    "        print(f\"Dia {chosen_day} no encontrado en {carpeta}. Revisa en la carpeta\")\n",
    "        return None\n",
    "\n",
    "data_base = cargar_csv(cfg.carpeta_md_opciones, chosen_day)"
   ]
  }
 ],
 "metadata": {
  "kernelspec": {
   "display_name": "base",
   "language": "python",
   "name": "python3"
  },
  "language_info": {
   "codemirror_mode": {
    "name": "ipython",
    "version": 3
   },
   "file_extension": ".py",
   "mimetype": "text/x-python",
   "name": "python",
   "nbconvert_exporter": "python",
   "pygments_lexer": "ipython3",
   "version": "3.12.7"
  }
 },
 "nbformat": 4,
 "nbformat_minor": 5
}
